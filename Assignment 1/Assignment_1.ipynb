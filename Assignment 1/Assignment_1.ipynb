{
 "cells": [
  {
   "cell_type": "markdown",
   "metadata": {},
   "source": [
    "# Grade: /100 points\n",
    "\n",
    "# Assignment 01: Supervised learning, Linear models, and Loss functions\n",
    "\n",
    "In this assignment, you're going to write your own methods to fit a linear model using either an OLS or LAD cost function.  \n",
    "\n",
    "## Data set \n",
    "\n",
    "For this assignment, we will examine some data representing possums in Australia and New Guinea. The data frame contains 46 observations on the following 6 variables:\n",
    "\n",
    "* sex: Sex, either m (male) or f (female).\n",
    "* age: Age in years.\n",
    "* headL: Head length, in mm.\n",
    "* skullW: Skull width, in mm.\n",
    "* totalL: Total length, in cm.\n",
    "* tailL: Tail length, in cm.\n",
    "\n",
    "## Follow These Steps Before Submitting\n",
    "\n",
    "You may need to install packages as follows:\n",
    "\n",
    "`python -m pip install matplotlib numpy scipy pandas scikit-learn`\n",
    "\n",
    "Once you are finished, ensure to complete the following steps.\n",
    "\n",
    "1.  Restart your kernel by clicking 'Kernel' > 'Restart & Run All'.\n",
    "\n",
    "2.  Fix any errors which result from this.\n",
    "\n",
    "3.  Repeat steps 1. and 2. until your notebook runs without errors.\n",
    "\n",
    "4.  Submit your completed notebook to OWL by the deadline.\n",
    "\n",
    "\n",
    "## Preliminaries"
   ]
  },
  {
   "cell_type": "code",
   "execution_count": 12,
   "metadata": {},
   "outputs": [],
   "source": [
    "# Import all the necessary packages: \n",
    "import matplotlib.pyplot as plt \n",
    "import numpy as np\n",
    "import pandas as pd\n",
    "import scipy.stats as ss \n",
    "import scipy.optimize as so\n",
    "from sklearn import linear_model\n",
    "\n",
    "%matplotlib inline"
   ]
  },
  {
   "cell_type": "markdown",
   "metadata": {},
   "source": [
    "\n",
    "## Part 1\n",
    "### Question 1.1:  /10 points\n",
    "\n",
    "\n",
    "Read in the `possum.csv` file as a `pandas.DataFrame`.  Investigate the relationship between the possum's age and its tail length by plotting a scatter plot of the `age` and `tailL` columns. Add an `alpha`(transparency of the plotted dots) in case some data are overlapping. "
   ]
  },
  {
   "cell_type": "code",
   "execution_count": 13,
   "metadata": {},
   "outputs": [
    {
     "data": {
      "text/plain": [
       "<Axes: title={'center': 'Tail Length vs Age'}, xlabel='age', ylabel='tailL'>"
      ]
     },
     "execution_count": 13,
     "metadata": {},
     "output_type": "execute_result"
    },
    {
     "data": {
      "image/png": "[encoded data removed]",
      "text/plain": [
       "<Figure size 640x480 with 1 Axes>"
      ]
     },
     "metadata": {},
     "output_type": "display_data"
    }
   ],
   "source": [
    "# Read in the data with pandas\n",
    "df = pd.read_csv('possum.csv')\n",
    "\n",
    "# Make the scatter plot (don't forget the axis labels)\n",
    "df.plot.scatter(x='age', y='tailL', alpha = 0.3, title=\"Tail Length vs Age\")"
   ]
  },
  {
   "cell_type": "markdown",
   "metadata": {},
   "source": [
    "### Question 1.2: /5 point\n",
    "\n",
    "Recall that the linear model, we obtain predictions by computing \n",
    "\n",
    "$$ \\hat{\\mathbf{y}} = \\mathbf{X} \\hat{\\beta} $$\n",
    "\n",
    "Here, $\\mathbf{X}$ is a design matrix which includes a column of ones, $\\hat{\\beta}$ are coefficients, and $\\hat{\\mathbf{y}}$ are outcomes.  Write a function `linearModelPredict` to compute linear model predictions given data and a coefficient vector.  The function should take as it's arguments a 1d-array of coefficients `b` and the design matrix `X` as a 2d-array and return linear model predictions `yp`.\n",
    "\n",
    "Test the function by setting \n",
    "\n",
    "```\n",
    "X = np.array([[1,0],[1,-1],[1,2]])\n",
    "b = np.array([0.1,0.3])\n",
    "```\n",
    "and call your function with these values! \n",
    "\n",
    "Report $\\hat{\\mathbf{y}}$. \n",
    "What is the dimensionality of the numpy-array that you get back? \n",
    "\n",
    "Hint:  Read the documentation for `np.dot` or the `@` operator in `numpy`."
   ]
  },
  {
   "cell_type": "code",
   "execution_count": 14,
   "metadata": {},
   "outputs": [
    {
     "name": "stdout",
     "output_type": "stream",
     "text": [
      "[ 0.1 -0.2  0.7]\n"
     ]
    }
   ],
   "source": [
    "def linearModelPredict(b,X):\n",
    "    # calculate prediction\n",
    "    yp = np.dot(X, b.T)\n",
    "    return yp\n",
    "\n",
    "# Always important: Test the new function you have written! \n",
    "X = np.array([[1,0], [1,-1], [1,2]])\n",
    "b = np.array([0.1, 0.3])\n",
    "\n",
    "# calculate prediction for sample X, b\n",
    "yp = linearModelPredict(b=b, X=X)\n",
    "# print result\n",
    "print(yp)\n",
    "\n",
    "# By the way: What happens when b is a 2d-array? \n",
    "# Question: What is the dimensionality of the numpy-array that you get back?\n",
    "# Answer: The dimensionality is 3 since the given X has three data points."
   ]
  },
  {
   "cell_type": "markdown",
   "metadata": {},
   "source": [
    "### Question 1.3: /15 points\n",
    "\n",
    "Write a function `linearModelLossRSS` which computes and returns the loss function for an OLS model parameterized by $\\beta$, as well as the gradient of the loss.  The function should take as its first argument a 1d-array `beta` of coefficients for the linear model, as its second argument the design matrix `X` as a 2d-array, and as its third argument a 1d-array `y` of observed outcomes.\n",
    "\n",
    "Test the function with the values \n",
    "\n",
    "```\n",
    "X = np.array([[1,0],[1,-1],[1,2]])\n",
    "b = np.array([0.1,0.3])\n",
    "y = np.array([0,0.4,2]) \n",
    "```\n",
    "\n",
    "Report the loss and the gradient. \n",
    "\n",
    "**Written answer**: To minimize the cost do you need increase or decrease the value of the parameters? "
   ]
  },
  {
   "cell_type": "code",
   "execution_count": 15,
   "metadata": {},
   "outputs": [
    {
     "name": "stdout",
     "output_type": "stream",
     "text": [
      "Loss: 2.06\n",
      "Gradient: [-3.6 -4. ]\n"
     ]
    }
   ],
   "source": [
    "def linearModelLossRSS(beta,X,y):\n",
    "    # calculate y prediction\n",
    "    yp = linearModelPredict(b=beta, X=X)\n",
    "    \n",
    "    # calculate residuals\n",
    "    residuals = y-yp\n",
    "    \n",
    "    # calculate loss\n",
    "    residual_sum_of_squares = np.sum(residuals**2)\n",
    "    \n",
    "    # calculate gradient\n",
    "    gradient = -2 * np.dot(X.T, residuals)\n",
    "    \n",
    "    return (residual_sum_of_squares, gradient)\n",
    "\n",
    "X = np.array([[1,0], [1,-1], [1,2]])\n",
    "b = np.array([0.1, 0.3])\n",
    "y = np.array([0, 0.4, 2])\n",
    "\n",
    "residual_sum_of_squares, gradient = linearModelLossRSS(beta=b, X=X, y=y)\n",
    "\n",
    "print('Loss: {}'.format(residual_sum_of_squares))\n",
    "print('Gradient: {}'.format(gradient))\n",
    "\n",
    "# Question: To minimize the cost do you need increase or decrease the value of the parameters?\n",
    "# Answer: All gradient of loss with respect to the parameters are negative so therefore to minimize the loss function, the value of the parameters should be increased."
   ]
  },
  {
   "cell_type": "markdown",
   "metadata": {},
   "source": [
    "### Question 1.4:  /15 points. \n",
    "\n",
    "Now that you've implemented a loss function in question 1.3, it is now time to minimize it!\n",
    "\n",
    "Write a function `linearModelFit` to fit a linear model.  The function should take as its first argument the design matrix `X` as a 2d-array, as its second argument a 1d-array `y` of outcomes, and as its third argument a function  `lossfcn` which returns as a tuple the value of the loss, as well as the gradient of the loss. As a result, it should return the estimated betas and the R2. \n",
    "\n",
    "Test the function with the values: \n",
    "```\n",
    "X = np.array([[1,0],[1,-1],[1,2]])\n",
    "y = np.array([0,0.4,2]) \n",
    "```\n",
    "\n",
    "Report best parameters and the fitted R2 \n"
   ]
  },
  {
   "cell_type": "code",
   "execution_count": 16,
   "metadata": {},
   "outputs": [
    {
     "name": "stdout",
     "output_type": "stream",
     "text": [
      "All Results:\n",
      "   message: Optimization terminated successfully.\n",
      "  success: True\n",
      "   status: 0\n",
      "      fun: 0.56\n",
      "        x: [ 6.000e-01  6.000e-01]\n",
      "      nit: 4\n",
      "      jac: [-4.441e-16 -6.661e-16]\n",
      " hess_inv: [[ 1.786e-01 -3.571e-02]\n",
      "            [-3.571e-02  1.071e-01]]\n",
      "     nfev: 6\n",
      "     njev: 6\n",
      "Best parameters: [0.6 0.6]\n",
      "R-squared: 0.75\n"
     ]
    }
   ],
   "source": [
    "def linearModelFit(X,y,lossfcn = linearModelLossRSS):\n",
    "    # initial beta\n",
    "    b0 = np.zeros(shape=(X.shape[1]))    \n",
    "    \n",
    "    # minimize loss function\n",
    "    result = so.minimize(lossfcn, b0, args=(X,y), jac=True)\n",
    "    \n",
    "    # estimate beta, set the parameters\n",
    "    estimated_betas = result.x\n",
    "    \n",
    "    # calculate R-squared\n",
    "    yp = linearModelPredict(b=estimated_betas, X=X)\n",
    "    RSS = np.sum((y-yp)**2)\n",
    "    TSS = np.sum((y-y.mean())**2)\n",
    "    R2 = 1-(RSS/TSS)\n",
    "\n",
    "    print('All Results:\\n {}'.format(result))  \n",
    "\n",
    "    return (estimated_betas, R2)\n",
    "\n",
    "X = np.array([[1,0], [1,-1], [1,2]])\n",
    "y = np.array([0, 0.4, 2])\n",
    "\n",
    "estimated_betas, R2 = linearModelFit(X,y,lossfcn = linearModelLossRSS)\n",
    "print('Best parameters: {}'.format(estimated_betas))\n",
    "print('R-squared: {}'.format(R2))"
   ]
  },
  {
   "cell_type": "markdown",
   "metadata": {},
   "source": [
    "### Question 1.5: /15 points\n",
    "\n",
    "Use the above functions to fit your model to the possum data. Then use your model and the fitted parameters to make predictions along a grid of equally spaced possum ages.  \n",
    "\n",
    "Plot the data and add a line for the predicted values. You can get these by generating a new X-matrix with equally spaced ages (using for example np.linspace). Also report the R2 value for the fit. You can do this by either printing out the R2 of the fit or putting it on your plot via the `annotate` function in matplotlib.\n"
   ]
  },
  {
   "cell_type": "code",
   "execution_count": 17,
   "metadata": {},
   "outputs": [
    {
     "name": "stdout",
     "output_type": "stream",
     "text": [
      "All Results:\n",
      "   message: Optimization terminated successfully.\n",
      "  success: True\n",
      "   status: 0\n",
      "      fun: 388.10162450066554\n",
      "        x: [ 3.335e+01  7.537e-01]\n",
      "      nit: 5\n",
      "      jac: [-3.273e-07 -1.040e-07]\n",
      " hess_inv: [[ 5.083e-02 -1.010e-02]\n",
      "            [-1.010e-02  2.553e-03]]\n",
      "     nfev: 6\n",
      "     njev: 6\n",
      "Best Parameters: [33.35046603  0.75372837]\n",
      "R-squared: 0.2228658794760413\n"
     ]
    },
    {
     "data": {
      "image/png": "[encoded data removed]",
      "text/plain": [
       "<Figure size 640x480 with 1 Axes>"
      ]
     },
     "metadata": {},
     "output_type": "display_data"
    }
   ],
   "source": [
    "# Make the design matrix using np.c_ \n",
    "# y = ...\n",
    "# X =  np.c_[...]\n",
    "\n",
    "# get age from dataframe\n",
    "X_age = df['age'].to_numpy()\n",
    "# Create a new X matrix with equally space data\n",
    "X_age_reshape = np.reshape(X_age,newshape=(-1,1))\n",
    "X = np.concatenate((np.ones(shape=(X_age_reshape.shape[0], 1)),  X_age_reshape), axis=1)\n",
    "\n",
    "# get y = tailL from dataframe\n",
    "y = df['tailL'].to_numpy()\n",
    "\n",
    "# optimize parameter of model\n",
    "estimated_betas, R2 = linearModelFit(X, y, lossfcn=linearModelLossRSS)\n",
    "print('Best Parameters: {}'.format(estimated_betas))\n",
    "print('R-squared: {}'.format(R2))\n",
    "\n",
    "# Call your fitting function\n",
    "# fitted line\n",
    "X_fitted_line = np.linspace(start=X_age.min(), stop=X_age.max(), num=100)\n",
    "# Add 1\n",
    "X_fitted_line_reshape = np.reshape(X_fitted_line, newshape=(-1, 1))\n",
    "X_fitted_line_expanded = np.concatenate((np.ones(shape=(X_fitted_line_reshape.shape[0], 1)),  X_fitted_line_reshape), axis=1)\n",
    "y_fitted_line = linearModelPredict(b=estimated_betas, X=X_fitted_line_expanded)\n",
    "\n",
    "# Create the scatter plot (see question 1.1)\n",
    "# Add the line to the graph \n",
    "# Report R2 \n",
    "plt.figure()\n",
    "plt.scatter(X_age, y, c='b')\n",
    "plt.plot(X_fitted_line, y_fitted_line, 'r-', linewidth=3)\n",
    "plt.xlabel('age')\n",
    "plt.ylabel('tailL')\n",
    "plt.title('Optimized parameters: {}\\nR-squared: {}'.format(estimated_betas, R2))\n",
    "plt.show()"
   ]
  },
  {
   "cell_type": "markdown",
   "metadata": {},
   "source": [
    "## Part 2: LAD Regression\n",
    "\n",
    "### Question 2.1:  /15 points\n",
    "\n",
    "In the previous section, we worked with the squared loss.  Now, we'll implement a linear model with least absolute deviation loss.\n",
    "\n",
    "Write a function `linearModelLossLAD` which computes the least absolute deviation loss function for a linear model  parameterized by $\\beta$, as well as the gradient of the loss.  The function should take as its first argument a 1d-array `beta` of coefficients for the linear model, as its second argument the design matrix `X` as a 2d-array, and as its third argument a 1d-array `y` of observed outcomes.\n",
    "\n",
    "Test the function with the values \n",
    "\n",
    "```\n",
    "X = np.array([[1,0],[1,-1],[1,2]])\n",
    "b = np.array([0.1,0.3])\n",
    "y = np.array([0,0.4,2]) \n",
    "```\n",
    "\n",
    "Report the loss and the gradient. "
   ]
  },
  {
   "cell_type": "code",
   "execution_count": 18,
   "metadata": {},
   "outputs": [
    {
     "name": "stdout",
     "output_type": "stream",
     "text": [
      "Loss: 2.0\n",
      "Gradients: [-1. -1.]\n"
     ]
    }
   ],
   "source": [
    "def linearModelLossLAD(b,X,y):\n",
    "    # calculate y prediction\n",
    "    yp = linearModelPredict(b=b, X=X)\n",
    "    \n",
    "    # calculate residuals\n",
    "    residuals = y-yp\n",
    "    \n",
    "    # calculate loss\n",
    "    sum_abs_dev = np.sum(np.abs(residuals))\n",
    "    \n",
    "    # calulate gradient\n",
    "    grad = -1 * np.dot(X.T, np.sign(residuals))\n",
    "\n",
    "    return (sum_abs_dev, grad)\n",
    "\n",
    "X = np.array([[1,0], [1,-1], [1,2]])\n",
    "b = np.array([0.1, 0.3])\n",
    "y = np.array([0, 0.4, 2])\n",
    "\n",
    "sum_abs_dev, grad = linearModelLossLAD(b=b, X=X, y=y)\n",
    "print('Loss: {}'.format(sum_abs_dev))\n",
    "print('Gradients: {}'.format(grad))"
   ]
  },
  {
   "cell_type": "markdown",
   "metadata": {},
   "source": [
    "### Question 2.2: /10 points\n",
    "\n",
    "\n",
    "Use the above functions to fit your LAD model. Use your model to make predictions along a grid of equally spaced possum ages.  Once fit, add the fitted line to the scatter plot as in question 1.5.  Also report the R2-value. \n",
    "\n",
    "**Written answer**: What is the difference in the fit obtained with an L1 as compared to the L2 cost function? Which one has a higher R2 value? Why?  \n",
    "\n",
    "Note: If you recieve an error from the optimizer, it may be because the loss function for the LAD model is not differentiable at its minimum.  This will lead to some gradient based optimizers to fail to converge.  If this happens to you then pass `method=\"Powell\"` to `scipy.optimize.minimize`.\n",
    "\n"
   ]
  },
  {
   "cell_type": "code",
   "execution_count": 19,
   "metadata": {},
   "outputs": [
    {
     "name": "stdout",
     "output_type": "stream",
     "text": [
      "All Results:\n",
      "   message: Desired error not necessarily achieved due to precision loss.\n",
      "  success: False\n",
      "   status: 2\n",
      "      fun: 73.96670873167427\n",
      "        x: [ 3.450e+01  3.334e-01]\n",
      "      nit: 10\n",
      "      jac: [-0.000e+00  2.000e+00]\n",
      " hess_inv: [[ 6.821e-03 -1.147e-03]\n",
      "            [-1.147e-03  2.531e-04]]\n",
      "     nfev: 131\n",
      "     njev: 119\n",
      "Best Parameters: [34.4999369   0.33335437]\n",
      "R-squared: 0.12923024435209518\n"
     ]
    },
    {
     "data": {
      "image/png": "[encoded data removed]",
      "text/plain": [
       "<Figure size 640x480 with 1 Axes>"
      ]
     },
     "metadata": {},
     "output_type": "display_data"
    }
   ],
   "source": [
    "# get age from dataframe\n",
    "X_age = df['age'].to_numpy()\n",
    "X_age_reshape = np.reshape(X_age, newshape=(-1, 1))\n",
    "# add one to it\n",
    "X = np.concatenate((np.ones(shape=(X_age_reshape.shape[0], 1)),  X_age_reshape), axis=1)\n",
    "\n",
    "# get y from dataframe\n",
    "y = df['tailL'].to_numpy()\n",
    "\n",
    "# optimize parameter of the model\n",
    "estimated_betas, R2 = linearModelFit(X, y, lossfcn=linearModelLossLAD)\n",
    "print('Best Parameters: {}'.format(estimated_betas))\n",
    "print('R-squared: {}'.format(R2))\n",
    "\n",
    "# fitted line\n",
    "X_fitted_line = np.linspace(start=X_age.min(), stop=X_age.max(), num=100)\n",
    "# Add 1\n",
    "X_fitted_line_reshape = np.reshape(X_fitted_line, newshape=(-1, 1))\n",
    "X_fitted_line_expanded = np.concatenate((np.ones(shape=(X_fitted_line_reshape.shape[0], 1)),  X_fitted_line_reshape), axis=1)\n",
    "y_fitted_line = linearModelPredict(b=estimated_betas, X=X_fitted_line_expanded)\n",
    "\n",
    "plt.figure()\n",
    "plt.scatter(X_age, y, c='b')\n",
    "plt.plot(X_fitted_line, y_fitted_line, 'r-', linewidth=3)\n",
    "plt.xlabel('age')\n",
    "plt.ylabel('tailL')\n",
    "plt.title('Optimized parameters: {}\\nR-squared: {}'.format(estimated_betas, R2))\n",
    "plt.show()"
   ]
  },
  {
   "cell_type": "markdown",
   "metadata": {},
   "source": [
    "Written answer: \n",
    "\n",
    "The R-Twos from LAD and RRS are similar. The value for LAD is 0.1293 and for RSS is 0.2229. RSS method has a slightly better R-squared value. The reason is that there are no data that can be considered as outlier and LAD gives less weight to extreme values since it uses the absolute values function."
   ]
  },
  {
   "cell_type": "markdown",
   "metadata": {},
   "source": [
    "### Question 2.3: /15 points\n",
    "\n",
    "Fit an OLS model to the possum data with the `linear_model` module from the `sklearn` package by using the `LinearRegression` class.  In no more than two sentences, comment on the rsquared values from `sklearn` and the rsquared values from your models. Are they similar?"
   ]
  },
  {
   "cell_type": "code",
   "execution_count": 20,
   "metadata": {},
   "outputs": [
    {
     "name": "stdout",
     "output_type": "stream",
     "text": [
      "Use \"age\" for regression) R-squared: 0.22286587947604108\n"
     ]
    }
   ],
   "source": [
    "# use age for regression\n",
    "# all data as numpy\n",
    "X = df.loc[:, ['age']].to_numpy()\n",
    "y = df.loc[:, 'tailL'].to_numpy()\n",
    "\n",
    "reg = linear_model.LinearRegression().fit(X, y)\n",
    "r_squared = reg.score(X, y)\n",
    "\n",
    "print('Use \"age\" for regression) R-squared: {}'.format(r_squared))"
   ]
  },
  {
   "cell_type": "markdown",
   "metadata": {},
   "source": [
    "Written answer:\n",
    "\n",
    "Sklearn R-squared with \"age\": 0.22286587947604108\n",
    "\n",
    "OLS R-squared with \"age\": 0.2228658794760413\n",
    "\n",
    "Therefore, when using sklearn with \"age\", we obtain almost equal R-squared values to our implementation OLS, which show both method are close to being the same."
   ]
  },
  {
   "cell_type": "code",
   "execution_count": null,
   "metadata": {},
   "outputs": [],
   "source": []
  }
 ],
 "metadata": {
  "kernelspec": {
   "display_name": "Python 3 (ipykernel)",
   "language": "python",
   "name": "python3"
  },
  "language_info": {
   "codemirror_mode": {
    "name": "ipython",
    "version": 3
   },
   "file_extension": ".py",
   "mimetype": "text/x-python",
   "name": "python",
   "nbconvert_exporter": "python",
   "pygments_lexer": "ipython3",
   "version": "3.11.4"
  }
 },
 "nbformat": 4,
 "nbformat_minor": 4
}
